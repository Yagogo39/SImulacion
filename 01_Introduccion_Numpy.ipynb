{
 "cells": [
  {
   "cell_type": "markdown",
   "id": "aae0048f",
   "metadata": {},
   "source": [
    "# Introduccion a Numpy."
   ]
  },
  {
   "cell_type": "markdown",
   "id": "15fcf0f0",
   "metadata": {},
   "source": [
    "[Numpy](https://numpy.org/doc/stable/) Es una biblioteca fundamental para la computacion cientifica con Python.\n",
    "\n",
    "* Proporciona arrays n dimensionales.\n",
    "* Implementa funciones matematicas sofisticadas.\n",
    "* Proporciona herramientas para integrar C/C++ y Fortran.\n",
    "* Proporciona mecanismos para facilitar la realizacion de tareas relacionadas con álgebra lineal o números aleatorios."
   ]
  },
  {
   "cell_type": "markdown",
   "id": "96bbb989",
   "metadata": {},
   "source": [
    "## Imports"
   ]
  },
  {
   "cell_type": "code",
   "execution_count": 1,
   "id": "d49a8246",
   "metadata": {},
   "outputs": [],
   "source": [
    "import numpy as np"
   ]
  },
  {
   "cell_type": "markdown",
   "id": "53c9e782",
   "metadata": {},
   "source": []
  },
  {
   "cell_type": "markdown",
   "id": "c38aebc4",
   "metadata": {},
   "source": [
    "### Arrays\n",
    "\n",
    "Un **array** es una estructura de datos que consiste en una coleccion de elementos (valores o variables), cada uno identificado por al menos un indice o clave. Un array se almacena de modo que la posicion de cada elemento se pueda calcular a partir de su tupla de índice mediante su formula matematica. El tipo mas simple del array es un array lineal, tambien llamado array unidimensional. "
   ]
  },
  {
   "cell_type": "markdown",
   "id": "9171821b",
   "metadata": {},
   "source": [
    "En Numpy:\n",
    "\n",
    "* Cada dimension se denomina **axis**.\n",
    "* El numero de dimensiones se denomina **rank**.\n",
    "* La lista de dimensiones con su correspondiente longitud se denomina **shape**.\n",
    "* El numero total de elementos (multiplicacion de la longitud de las dimensiones) se denomina **size**."
   ]
  },
  {
   "cell_type": "code",
   "execution_count": 2,
   "id": "aa4a27e9",
   "metadata": {},
   "outputs": [],
   "source": [
    "#Array cuyos valores son todos 0.\n",
    "\n",
    "a = np.zeros((2,4))"
   ]
  },
  {
   "cell_type": "code",
   "execution_count": 3,
   "id": "7a0497d1",
   "metadata": {},
   "outputs": [
    {
     "data": {
      "text/plain": [
       "array([[0., 0., 0., 0.],\n",
       "       [0., 0., 0., 0.]])"
      ]
     },
     "execution_count": 3,
     "metadata": {},
     "output_type": "execute_result"
    }
   ],
   "source": [
    "a"
   ]
  },
  {
   "cell_type": "markdown",
   "id": "54c1182b",
   "metadata": {},
   "source": [
    "**a** es un array:\n",
    "* Con dos **axis**, la primera de longitud dos, y el segundo de longitud 4.\n",
    "* Con un **rank** igual a dos.\n",
    "* Con un **shape** igual a de 2, 4.\n",
    "* Con un **size** igual a 8."
   ]
  },
  {
   "cell_type": "code",
   "execution_count": 4,
   "id": "1ae109ef",
   "metadata": {},
   "outputs": [
    {
     "data": {
      "text/plain": [
       "(2, 4)"
      ]
     },
     "execution_count": 4,
     "metadata": {},
     "output_type": "execute_result"
    }
   ],
   "source": [
    "a.shape"
   ]
  },
  {
   "cell_type": "code",
   "execution_count": 7,
   "id": "866dcf5c",
   "metadata": {},
   "outputs": [
    {
     "data": {
      "text/plain": [
       "2"
      ]
     },
     "execution_count": 7,
     "metadata": {},
     "output_type": "execute_result"
    }
   ],
   "source": [
    "a.ndim"
   ]
  },
  {
   "cell_type": "code",
   "execution_count": 8,
   "id": "b7d21b73",
   "metadata": {},
   "outputs": [
    {
     "data": {
      "text/plain": [
       "8"
      ]
     },
     "execution_count": 8,
     "metadata": {},
     "output_type": "execute_result"
    }
   ],
   "source": [
    "a.size"
   ]
  },
  {
   "cell_type": "markdown",
   "id": "bc38e0c1",
   "metadata": {},
   "source": [
    "### Creacion de Arrays"
   ]
  },
  {
   "cell_type": "code",
   "execution_count": 9,
   "id": "324781c7",
   "metadata": {},
   "outputs": [
    {
     "data": {
      "text/plain": [
       "array([[[0., 0., 0., 0.],\n",
       "        [0., 0., 0., 0.],\n",
       "        [0., 0., 0., 0.]],\n",
       "\n",
       "       [[0., 0., 0., 0.],\n",
       "        [0., 0., 0., 0.],\n",
       "        [0., 0., 0., 0.]]])"
      ]
     },
     "execution_count": 9,
     "metadata": {},
     "output_type": "execute_result"
    }
   ],
   "source": [
    "# Array cuyos valores son todos 0.\n",
    "\n",
    "np.zeros((2,3,4))  #Primero se ponen las dimensiones, y despues se ponen las filas, y luego las columnnas."
   ]
  },
  {
   "cell_type": "markdown",
   "id": "36bb842c",
   "metadata": {},
   "source": []
  },
  {
   "cell_type": "code",
   "execution_count": 11,
   "id": "b787cac1",
   "metadata": {},
   "outputs": [
    {
     "data": {
      "text/plain": [
       "array([[[1., 1., 1., 1.],\n",
       "        [1., 1., 1., 1.],\n",
       "        [1., 1., 1., 1.],\n",
       "        [1., 1., 1., 1.]],\n",
       "\n",
       "       [[1., 1., 1., 1.],\n",
       "        [1., 1., 1., 1.],\n",
       "        [1., 1., 1., 1.],\n",
       "        [1., 1., 1., 1.]]])"
      ]
     },
     "execution_count": 11,
     "metadata": {},
     "output_type": "execute_result"
    }
   ],
   "source": [
    "# Array cuyos valores son todos uno\n",
    "np.ones((2,4,4))"
   ]
  },
  {
   "cell_type": "code",
   "execution_count": 12,
   "id": "a1ba5ec9",
   "metadata": {},
   "outputs": [
    {
     "data": {
      "text/plain": [
       "array([[[8, 8, 8, 8],\n",
       "        [8, 8, 8, 8],\n",
       "        [8, 8, 8, 8]],\n",
       "\n",
       "       [[8, 8, 8, 8],\n",
       "        [8, 8, 8, 8],\n",
       "        [8, 8, 8, 8]]])"
      ]
     },
     "execution_count": 12,
     "metadata": {},
     "output_type": "execute_result"
    }
   ],
   "source": [
    "# Array cuyos valores son todos el valor indicado como segundo parametrp de la funcion \n",
    "np.full((2,3,4), 8)"
   ]
  },
  {
   "cell_type": "code",
   "execution_count": 14,
   "id": "435db0c4",
   "metadata": {},
   "outputs": [
    {
     "data": {
      "text/plain": [
       "array([[[4.68591927e-310, 0.00000000e+000, 0.00000000e+000,\n",
       "         0.00000000e+000, 6.55716030e-312, 1.31607456e-292,\n",
       "         1.97626258e-322, 3.17004951e-310, 6.12454250e-302],\n",
       "        [4.99998019e-315, 0.00000000e+000, 6.95335581e-309,\n",
       "         3.44166865e-310, 3.93720589e-302, 0.00000000e+000,\n",
       "         1.00056855e-316, 5.33445445e-315, 3.60463425e-310],\n",
       "        [1.99224836e+021, 0.00000000e+000, 8.89861635e-320,\n",
       "         4.31613219e-316, 3.98490040e-310, 8.61952728e-288,\n",
       "         3.91581293e-293, 1.12361032e-316, 7.66184714e-303]],\n",
       "\n",
       "       [[1.57842177e+050, 0.00000000e+000, 9.65750118e-320,\n",
       "         1.25216013e-312, 1.29532007e-317, 4.45014804e-308,\n",
       "         3.61029760e-316, 1.53844695e-310, 0.00000000e+000],\n",
       "        [0.00000000e+000, 2.41072090e+045, 0.00000000e+000,\n",
       "         6.49200848e-315, 0.00000000e+000, 6.95335581e-309,\n",
       "         1.05811442e-302, 1.97626258e-322, 5.64902475e-283],\n",
       "        [4.17604955e-308, 5.08380774e-298, 5.56268465e-308,\n",
       "         6.66070198e-315, 4.74881493e-249, 3.17005650e-310,\n",
       "         1.59002214e-268, 6.44826985e-269, 4.31283974e-308]]])"
      ]
     },
     "execution_count": 14,
     "metadata": {},
     "output_type": "execute_result"
    }
   ],
   "source": [
    "#El resultado de np.empty no es predecible.\n",
    "#Inicializa los valores del array con lo que hay en memoria en ese momento.\n",
    "np.empty((2,3,9))"
   ]
  },
  {
   "cell_type": "code",
   "execution_count": 17,
   "id": "68b94545",
   "metadata": {},
   "outputs": [
    {
     "data": {
      "text/plain": [
       "array([[1, 2, 3],\n",
       "       [4, 5, 6]])"
      ]
     },
     "execution_count": 17,
     "metadata": {},
     "output_type": "execute_result"
    }
   ],
   "source": [
    "#Inicializar un array usando un array de Python.\n",
    "\n",
    "b = np.array([[1,2,3], [4,5,6]])\n",
    "b"
   ]
  },
  {
   "cell_type": "code",
   "execution_count": 18,
   "id": "8bd24ed3",
   "metadata": {},
   "outputs": [
    {
     "data": {
      "text/plain": [
       "(2, 3)"
      ]
     },
     "execution_count": 18,
     "metadata": {},
     "output_type": "execute_result"
    }
   ],
   "source": [
    "#¿Que hizo?\n",
    "b.shape"
   ]
  },
  {
   "cell_type": "code",
   "execution_count": 19,
   "id": "7dcec017",
   "metadata": {},
   "outputs": [
    {
     "data": {
      "text/plain": [
       "6"
      ]
     },
     "execution_count": 19,
     "metadata": {},
     "output_type": "execute_result"
    }
   ],
   "source": [
    "b.size"
   ]
  },
  {
   "cell_type": "code",
   "execution_count": 20,
   "id": "69c3cd24",
   "metadata": {},
   "outputs": [
    {
     "data": {
      "text/plain": [
       "2"
      ]
     },
     "execution_count": 20,
     "metadata": {},
     "output_type": "execute_result"
    }
   ],
   "source": [
    "b.ndim"
   ]
  },
  {
   "cell_type": "code",
   "execution_count": 22,
   "id": "75948fa8",
   "metadata": {},
   "outputs": [
    {
     "name": "stdout",
     "output_type": "stream",
     "text": [
      "[0.         0.66666667 1.33333333 2.         2.66666667 3.33333333\n",
      " 4.         4.66666667 5.33333333 6.        ]\n"
     ]
    }
   ],
   "source": [
    "#Crear un array utilizando una funcion basada en rangos.\n",
    "# min, max, numero de elementos.\n",
    "print(np.linspace(0,6,10))"
   ]
  },
  {
   "cell_type": "code",
   "execution_count": 23,
   "id": "8ece5ed2",
   "metadata": {},
   "outputs": [
    {
     "data": {
      "text/plain": [
       "array([[[0.18792393, 0.56396931, 0.39123444, 0.85484029],\n",
       "        [0.8227193 , 0.56680667, 0.04054217, 0.18611861],\n",
       "        [0.43830688, 0.69413147, 0.75520467, 0.88606018]],\n",
       "\n",
       "       [[0.11587067, 0.39831121, 0.10437584, 0.91246109],\n",
       "        [0.27505891, 0.63225701, 0.22465515, 0.87608078],\n",
       "        [0.24785771, 0.64852899, 0.85639196, 0.19084358]]])"
      ]
     },
     "execution_count": 23,
     "metadata": {},
     "output_type": "execute_result"
    }
   ],
   "source": [
    "#Inicializar un array con valores aleatorios.\n",
    "np.random.rand(2,3,4)"
   ]
  },
  {
   "cell_type": "code",
   "execution_count": 24,
   "id": "2437c19a",
   "metadata": {},
   "outputs": [
    {
     "data": {
      "text/plain": [
       "array([[ 0.08426893,  0.48458371,  2.04752358, -0.78811367],\n",
       "       [-0.06079683, -0.99961448, -1.37660084, -1.20002668]])"
      ]
     },
     "execution_count": 24,
     "metadata": {},
     "output_type": "execute_result"
    }
   ],
   "source": [
    "#Inicializar un array con valores aleatorios conforme a una distribucion normal.\n",
    "np.random.randn(2,4)"
   ]
  },
  {
   "cell_type": "code",
   "execution_count": 34,
   "id": "b36149b4",
   "metadata": {},
   "outputs": [
    {
     "data": {
      "image/png": "[encoded data removed]",
      "text/plain": [
       "<Figure size 640x480 with 1 Axes>"
      ]
     },
     "metadata": {},
     "output_type": "display_data"
    }
   ],
   "source": [
    "%matplotlib inline\n",
    "import matplotlib.pyplot as plt\n",
    "c = np.random.randn(100000)\n",
    "plt.hist(c, bins=500)\n",
    "plt.show()"
   ]
  },
  {
   "cell_type": "code",
   "execution_count": 35,
   "id": "af002094",
   "metadata": {},
   "outputs": [
    {
     "data": {
      "text/plain": [
       "array([[ 0.,  2.,  4.,  6.,  8.],\n",
       "       [ 1.,  3.,  5.,  7.,  9.],\n",
       "       [ 2.,  4.,  6.,  8., 10.]])"
      ]
     },
     "execution_count": 35,
     "metadata": {},
     "output_type": "execute_result"
    }
   ],
   "source": [
    "#Inicializar un array utilizando una funcion personalizada\n",
    "def func(X, Y):\n",
    "    return X+2*Y\n",
    "\n",
    "np.fromfunction(func, (3,5))"
   ]
  },
  {
   "cell_type": "markdown",
   "id": "80d32d01",
   "metadata": {},
   "source": [
    "### Acceso a los elementos de un array\n",
    "\n",
    "#### Array unidimensional"
   ]
  },
  {
   "cell_type": "code",
   "execution_count": 36,
   "id": "406354c7",
   "metadata": {},
   "outputs": [],
   "source": [
    "#Crear un array unidimensional\n",
    "array_uni=np.array([1,3,5,7,9,11])"
   ]
  },
  {
   "cell_type": "code",
   "execution_count": 38,
   "id": "5f31ac6b",
   "metadata": {},
   "outputs": [
    {
     "name": "stdout",
     "output_type": "stream",
     "text": [
      "Shape: (6,)\n",
      "Array uni: [ 1  3  5  7  9 11]\n"
     ]
    }
   ],
   "source": [
    "print(\"Shape:\", array_uni.shape)\n",
    "print(\"Array uni:\", array_uni)"
   ]
  },
  {
   "cell_type": "code",
   "execution_count": 39,
   "id": "d158f741",
   "metadata": {},
   "outputs": [
    {
     "data": {
      "text/plain": [
       "np.int64(9)"
      ]
     },
     "execution_count": 39,
     "metadata": {},
     "output_type": "execute_result"
    }
   ],
   "source": [
    "#Acceder al quinto elemento del array\n",
    "array_uni[4]"
   ]
  },
  {
   "cell_type": "code",
   "execution_count": 43,
   "id": "60da01ff",
   "metadata": {},
   "outputs": [
    {
     "data": {
      "text/plain": [
       "array([5, 7])"
      ]
     },
     "execution_count": 43,
     "metadata": {},
     "output_type": "execute_result"
    }
   ],
   "source": [
    "#Acceder al tercer y cuarto elemento del array\n",
    "array_uni[2:4]"
   ]
  },
  {
   "cell_type": "code",
   "execution_count": 44,
   "id": "45057b12",
   "metadata": {},
   "outputs": [
    {
     "data": {
      "text/plain": [
       "array([ 1,  7, 11])"
      ]
     },
     "execution_count": 44,
     "metadata": {},
     "output_type": "execute_result"
    }
   ],
   "source": [
    "#Acceder al elemento 0, 3 y 5 del array.\n",
    "array_uni[[0,3,5]]"
   ]
  },
  {
   "cell_type": "markdown",
   "id": "f3abea05",
   "metadata": {},
   "source": [
    "#### Array Multidimensional."
   ]
  },
  {
   "cell_type": "markdown",
   "id": "94fd5bea",
   "metadata": {},
   "source": []
  },
  {
   "cell_type": "code",
   "execution_count": 46,
   "id": "f6845f19",
   "metadata": {},
   "outputs": [],
   "source": [
    "#Crear un array multidimensional\n",
    "array_multi = np.array([[1,2,3,4],[5,6,7,8]])"
   ]
  },
  {
   "cell_type": "code",
   "execution_count": 49,
   "id": "a7520794",
   "metadata": {},
   "outputs": [
    {
     "name": "stdout",
     "output_type": "stream",
     "text": [
      "Shape: (2, 4)\n",
      "Array multi: \n",
      " [[1 2 3 4]\n",
      " [5 6 7 8]]\n"
     ]
    }
   ],
   "source": [
    "print(\"Shape:\", array_multi.shape)\n",
    "print(\"Array multi: \\n\", array_multi)"
   ]
  },
  {
   "cell_type": "code",
   "execution_count": 50,
   "id": "8a965423",
   "metadata": {},
   "outputs": [
    {
     "data": {
      "text/plain": [
       "np.int64(4)"
      ]
     },
     "execution_count": 50,
     "metadata": {},
     "output_type": "execute_result"
    }
   ],
   "source": [
    "##Acceder al cuarto elemento del Array\n",
    "array_multi[0,3]"
   ]
  },
  {
   "cell_type": "code",
   "execution_count": 52,
   "id": "39e324d2",
   "metadata": {},
   "outputs": [
    {
     "data": {
      "text/plain": [
       "array([5, 6, 7, 8])"
      ]
     },
     "execution_count": 52,
     "metadata": {},
     "output_type": "execute_result"
    }
   ],
   "source": [
    "#Acceder a la segunda fila del array \n",
    "array_multi[1, :]"
   ]
  },
  {
   "cell_type": "code",
   "execution_count": null,
   "id": "0cdbc286",
   "metadata": {},
   "outputs": [
    {
     "data": {
      "text/plain": [
       "array([3, 7])"
      ]
     },
     "execution_count": 54,
     "metadata": {},
     "output_type": "execute_result"
    }
   ],
   "source": [
    "#Acceder al tercer elemento de las dos primers filas del array \n",
    "array_multi[0: 2, 2]"
   ]
  },
  {
   "cell_type": "markdown",
   "id": "132c9b6b",
   "metadata": {},
   "source": [
    "### Modificar un Array"
   ]
  },
  {
   "cell_type": "code",
   "execution_count": 60,
   "id": "4551e9f3",
   "metadata": {},
   "outputs": [],
   "source": [
    "#Crear un array unidimensional e inicializarlo con el rango de elementos 0-27\n",
    "array1 = np.arange(28)"
   ]
  },
  {
   "cell_type": "code",
   "execution_count": 59,
   "id": "c2849d67",
   "metadata": {},
   "outputs": [
    {
     "name": "stdout",
     "output_type": "stream",
     "text": [
      "Shape: (28,)\n",
      "Array 1: \n",
      " [ 0  1  2  3  4  5  6  7  8  9 10 11 12 13 14 15 16 17 18 19 20 21 22 23\n",
      " 24 25 26 27]\n"
     ]
    }
   ],
   "source": [
    "print(\"Shape:\", array1.shape)\n",
    "print(\"Array 1: \\n\", array1)"
   ]
  },
  {
   "cell_type": "code",
   "execution_count": 61,
   "id": "caf97bbc",
   "metadata": {},
   "outputs": [
    {
     "name": "stdout",
     "output_type": "stream",
     "text": [
      "Shape: (7, 4)\n",
      "Array 1: \n",
      " [[ 0  1  2  3]\n",
      " [ 4  5  6  7]\n",
      " [ 8  9 10 11]\n",
      " [12 13 14 15]\n",
      " [16 17 18 19]\n",
      " [20 21 22 23]\n",
      " [24 25 26 27]]\n"
     ]
    }
   ],
   "source": [
    "#Cambiar las dimensiones del Array y sus longitudes \n",
    "array1.shape=(7,4)\n",
    "print(\"Shape:\", array1.shape)\n",
    "print(\"Array 1: \\n\", array1)"
   ]
  },
  {
   "cell_type": "code",
   "execution_count": 64,
   "id": "97f4f891",
   "metadata": {},
   "outputs": [
    {
     "name": "stdout",
     "output_type": "stream",
     "text": [
      "Shape: (4, 7)\n",
      "Array 2: \n",
      " [[ 0  1  2  3  4  5  6]\n",
      " [ 7  8  9 10 11 12 13]\n",
      " [14 15 16 17 18 19 20]\n",
      " [21 22 23 24 25 26 27]]\n",
      "Array 1: \n",
      " [[ 0  1  2  3]\n",
      " [ 4  5  6  7]\n",
      " [ 8  9 10 11]\n",
      " [12 13 14 15]\n",
      " [16 17 18 19]\n",
      " [20 21 22 23]\n",
      " [24 25 26 27]]\n"
     ]
    }
   ],
   "source": [
    "#El ejemplo anterior devuelve un nuevo array que apunta a los mismos datos.\n",
    "#NOTA: Las modificaciones de un array modifican el otro array \n",
    "array2=array1.reshape(4,7)\n",
    "print(\"Shape:\", array2.shape)\n",
    "print(\"Array 2: \\n\", array2)\n",
    "print(\"Array 1: \\n\", array1)"
   ]
  },
  {
   "cell_type": "code",
   "execution_count": 66,
   "id": "1a04b1e5",
   "metadata": {},
   "outputs": [
    {
     "name": "stdout",
     "output_type": "stream",
     "text": [
      "Array 2: \n",
      " [[ 0  1  2 20  4  5  6]\n",
      " [ 7  8  9 10 11 12 13]\n",
      " [14 15 16 17 18 19 20]\n",
      " [21 22 23 24 25 26 27]]\n",
      "Array 1: \n",
      " [[ 0  1  2 20]\n",
      " [ 4  5  6  7]\n",
      " [ 8  9 10 11]\n",
      " [12 13 14 15]\n",
      " [16 17 18 19]\n",
      " [20 21 22 23]\n",
      " [24 25 26 27]]\n"
     ]
    }
   ],
   "source": [
    "#Modificar el array devuelto\n",
    "array2[0,3] = 20\n",
    "print(\"Array 2: \\n\", array2)\n",
    "print(\"Array 1: \\n\", array1)\n"
   ]
  },
  {
   "cell_type": "code",
   "execution_count": 67,
   "id": "d57b1659",
   "metadata": {},
   "outputs": [
    {
     "name": "stdout",
     "output_type": "stream",
     "text": [
      "array1 [ 0  1  2 20  4  5  6  7  8  9 10 11 12 13 14 15 16 17 18 19 20 21 22 23\n",
      " 24 25 26 27]\n"
     ]
    }
   ],
   "source": [
    "#Regresar el array devolviendo un nuevo array de una sola dimension\n",
    "#NOTA: El nuevo array apunta a los mismos datos.\n",
    "print(\"array1\", array1.ravel())"
   ]
  },
  {
   "cell_type": "markdown",
   "id": "74d1fe33",
   "metadata": {},
   "source": [
    "#### Operaciones Aritmeticas con Arrays"
   ]
  },
  {
   "cell_type": "markdown",
   "id": "4440d0a9",
   "metadata": {},
   "source": []
  }
 ],
 "metadata": {
  "kernelspec": {
   "display_name": "venv",
   "language": "python",
   "name": "python3"
  },
  "language_info": {
   "codemirror_mode": {
    "name": "ipython",
    "version": 3
   },
   "file_extension": ".py",
   "mimetype": "text/x-python",
   "name": "python",
   "nbconvert_exporter": "python",
   "pygments_lexer": "ipython3",
   "version": "3.13.7"
  }
 },
 "nbformat": 4,
 "nbformat_minor": 5
}
