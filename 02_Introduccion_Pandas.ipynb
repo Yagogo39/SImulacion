{
 "cells": [
  {
   "cell_type": "markdown",
   "id": "07fc0805",
   "metadata": {},
   "source": [
    "# Introduccion a Pandas\n",
    "[Pandas](https://pandas.pydata.org/about/index.html) es una biblioteca que proporciona estructuras de datos y herramientas de analisis de datos de alto rendimiento y faciles de usar.\n",
    "* La estructura de datos principal es el **DataFrame**, que puede considerarse como una tabla 2D en memoria(como una hoja de calculo), con nombre de columna y etiquetas de fila.\n",
    "* Muchas funciones disponibles en Excel están disponibles mediante programacion como crear tablas dinámicas, calcular columnas basadas en otras columnas, trazar graficos, etc.\n",
    "* Proporciona un alto rendimiento para manipular (unir, dividir, modificar, entre otras cosas) grandes conjuntos de datos."
   ]
  },
  {
   "cell_type": "markdown",
   "id": "e8fc21dc",
   "metadata": {},
   "source": [
    "## Import"
   ]
  },
  {
   "cell_type": "code",
   "execution_count": 2,
   "id": "db03ee7b",
   "metadata": {},
   "outputs": [],
   "source": [
    "import pandas as pd"
   ]
  },
  {
   "cell_type": "markdown",
   "id": "f19fa403",
   "metadata": {},
   "source": [
    "### Estructura de datos en Pandas\n",
    "\n",
    "La biblioteca **Pandas**, de manera genérica contiene las siguientes estructuras de datos.\n",
    "\n",
    "* **Series**. Array de una dimension.\n",
    "* **DataFrame**. Se corresponde con una tabla de dos dimensiones.\n",
    "* **Panel**. Similar a un diccionario de DataFrames.\n"
   ]
  },
  {
   "cell_type": "markdown",
   "id": "76fc3c75",
   "metadata": {},
   "source": [
    "#### Creacion del objeto Series."
   ]
  },
  {
   "cell_type": "code",
   "execution_count": 3,
   "id": "c26485bd",
   "metadata": {},
   "outputs": [
    {
     "name": "stdout",
     "output_type": "stream",
     "text": [
      "0     2\n",
      "1     4\n",
      "2     6\n",
      "3     8\n",
      "4    10\n",
      "dtype: int64\n"
     ]
    }
   ],
   "source": [
    "#Crear un Objeto Series\n",
    "s = pd.Series([2,4,6,8,10])\n",
    "print(s)"
   ]
  },
  {
   "cell_type": "code",
   "execution_count": 4,
   "id": "8ebdf990",
   "metadata": {},
   "outputs": [
    {
     "name": "stdout",
     "output_type": "stream",
     "text": [
      "Moris      170\n",
      "Rebeca     160\n",
      "Arturo     169\n",
      "Yulissa    156\n",
      "dtype: int64\n"
     ]
    }
   ],
   "source": [
    "# Crear un objeto Series e inicializarlo con un diccionario de Python\n",
    "altura = {\"Moris\":170, \"Rebeca\": 160, \"Arturo\":169, \"Yulissa\": 156}\n",
    "s = pd.Series(altura)\n",
    "print(s)"
   ]
  },
  {
   "cell_type": "code",
   "execution_count": 5,
   "id": "df628feb",
   "metadata": {},
   "outputs": [
    {
     "name": "stdout",
     "output_type": "stream",
     "text": [
      "Rebeca     160\n",
      "Yulissa    156\n",
      "dtype: int64\n"
     ]
    }
   ],
   "source": [
    "#Crear un objeto Series e inicializrlo con algunos de los elementos de un diccionario de Python\n",
    "altura = {\"Moris\": 170, \"Rebeca\":160, \"Arturo\": 169, \"Yulissa\": 156}\n",
    "s = pd.Series(altura, index = [\"Rebeca\", \"Yulissa\"])\n",
    "print(s)"
   ]
  },
  {
   "cell_type": "code",
   "execution_count": 6,
   "id": "38e38ba0",
   "metadata": {},
   "outputs": [
    {
     "name": "stdout",
     "output_type": "stream",
     "text": [
      "Test1    34\n",
      "Test2    34\n",
      "Test3    34\n",
      "dtype: int64\n"
     ]
    }
   ],
   "source": [
    "#Crear un objeto Series e inicializarlo con un objeto escalar.\n",
    "s = pd.Series(34, [\"Test1\", \"Test2\", \"Test3\"])\n",
    "print(s)"
   ]
  },
  {
   "cell_type": "markdown",
   "id": "eefb62cf",
   "metadata": {},
   "source": [
    "#### Acceder a los elementos de un objeto Series\n",
    "\n",
    "Cada elemento de un objeto Series tiene un identificador único que se denomina **index label**."
   ]
  },
  {
   "cell_type": "code",
   "execution_count": 7,
   "id": "0a8fcd9a",
   "metadata": {},
   "outputs": [
    {
     "name": "stdout",
     "output_type": "stream",
     "text": [
      "Num1    2\n",
      "Num2    4\n",
      "Num3    6\n",
      "Num4    8\n",
      "dtype: int64\n"
     ]
    }
   ],
   "source": [
    "#Creacion de un elemento Series\n",
    "s= pd.Series([2,4,6,8], index=[\"Num1\", \"Num2\", \"Num3\", \"Num4\"])\n",
    "print(s)"
   ]
  },
  {
   "cell_type": "code",
   "execution_count": 8,
   "id": "63eb6410",
   "metadata": {},
   "outputs": [
    {
     "data": {
      "text/plain": [
       "np.int64(6)"
      ]
     },
     "execution_count": 8,
     "metadata": {},
     "output_type": "execute_result"
    }
   ],
   "source": [
    "#Acceder al tercer elemento del objeto Series\n",
    "s[\"Num3\"]"
   ]
  },
  {
   "cell_type": "code",
   "execution_count": 9,
   "id": "4ed1dda5",
   "metadata": {},
   "outputs": [
    {
     "name": "stderr",
     "output_type": "stream",
     "text": [
      "/tmp/ipykernel_1923/3149550479.py:2: FutureWarning: Series.__getitem__ treating keys as positions is deprecated. In a future version, integer keys will always be treated as labels (consistent with DataFrame behavior). To access a value by position, use `ser.iloc[pos]`\n",
      "  s[2]\n"
     ]
    },
    {
     "data": {
      "text/plain": [
       "np.int64(6)"
      ]
     },
     "execution_count": 9,
     "metadata": {},
     "output_type": "execute_result"
    }
   ],
   "source": [
    "#Tambien se puede acceder al elemento por su posicion\n",
    "s[2]"
   ]
  },
  {
   "cell_type": "code",
   "execution_count": 10,
   "id": "5b91b0c9",
   "metadata": {},
   "outputs": [
    {
     "data": {
      "text/plain": [
       "np.int64(6)"
      ]
     },
     "execution_count": 10,
     "metadata": {},
     "output_type": "execute_result"
    }
   ],
   "source": [
    "# loc es la forma estandar de acceder a un elemento de un objeto Series por atributo.\n",
    "s.loc[\"Num3\"]"
   ]
  },
  {
   "cell_type": "code",
   "execution_count": 11,
   "id": "1b10bd6c",
   "metadata": {},
   "outputs": [
    {
     "data": {
      "text/plain": [
       "np.int64(6)"
      ]
     },
     "execution_count": 11,
     "metadata": {},
     "output_type": "execute_result"
    }
   ],
   "source": [
    "# iloc es la forma estandar de acceder a un elemento de un objeto Series por posicion.\n",
    "s.iloc[2]"
   ]
  },
  {
   "cell_type": "code",
   "execution_count": 12,
   "id": "53988df7",
   "metadata": {},
   "outputs": [
    {
     "data": {
      "text/plain": [
       "Num3    6\n",
       "Num4    8\n",
       "dtype: int64"
      ]
     },
     "execution_count": 12,
     "metadata": {},
     "output_type": "execute_result"
    }
   ],
   "source": [
    "#Acceder al segundo y tercer elemento por posicion\n",
    "s.iloc[2:4]"
   ]
  },
  {
   "cell_type": "markdown",
   "id": "b83239b3",
   "metadata": {},
   "source": [
    "### Operaciones aritmeticas con Objetos Series"
   ]
  },
  {
   "cell_type": "code",
   "execution_count": 13,
   "id": "9eb33076",
   "metadata": {},
   "outputs": [
    {
     "name": "stdout",
     "output_type": "stream",
     "text": [
      "0     2\n",
      "1     4\n",
      "2     6\n",
      "3     8\n",
      "4    10\n",
      "dtype: int64\n"
     ]
    }
   ],
   "source": [
    "s=pd.Series([2,4,6,8,10])\n",
    "print(s)"
   ]
  },
  {
   "cell_type": "code",
   "execution_count": 14,
   "id": "94f171db",
   "metadata": {},
   "outputs": [
    {
     "data": {
      "text/plain": [
       "np.int64(30)"
      ]
     },
     "execution_count": 14,
     "metadata": {},
     "output_type": "execute_result"
    }
   ],
   "source": [
    "#Los objetos series son similares y compatibles con los arrays de Numpy\n",
    "import numpy as np\n",
    "\n",
    "#Ufunc de Numpy para sumarlos elementos de un Array\n",
    "np.sum(s)"
   ]
  },
  {
   "cell_type": "code",
   "execution_count": 15,
   "id": "f768ef8b",
   "metadata": {},
   "outputs": [
    {
     "data": {
      "text/plain": [
       "0     4\n",
       "1     8\n",
       "2    12\n",
       "3    16\n",
       "4    20\n",
       "dtype: int64"
      ]
     },
     "execution_count": 15,
     "metadata": {},
     "output_type": "execute_result"
    }
   ],
   "source": [
    "#El resto de las operaciones aritmeticas de Numpy sobre Arrays tambien son posibles, para mas informacion revissar la Introduccion de Numpy\n",
    "\n",
    "s*2"
   ]
  },
  {
   "cell_type": "markdown",
   "id": "7b645dba",
   "metadata": {},
   "source": [
    "### Representacion grafica de un objeto Series"
   ]
  },
  {
   "cell_type": "code",
   "execution_count": 16,
   "id": "ad0fbd8f",
   "metadata": {},
   "outputs": [
    {
     "name": "stdout",
     "output_type": "stream",
     "text": [
      "0     4.4\n",
      "1     5.1\n",
      "2     6.1\n",
      "3     6.2\n",
      "4     6.1\n",
      "5     6.1\n",
      "6     5.7\n",
      "7     5.2\n",
      "8     4.7\n",
      "9     4.1\n",
      "10    3.9\n",
      "Name: Temperaturas, dtype: float64\n"
     ]
    }
   ],
   "source": [
    "temperaturas=[4.4, 5.1, 6.1, 6.2, 6.1, 6.1, 5.7, 5.2, 4.7, 4.1, 3.9]\n",
    "s = pd.Series(temperaturas, name=\"Temperaturas\")\n",
    "print(s)"
   ]
  },
  {
   "cell_type": "code",
   "execution_count": 17,
   "id": "c9c23de1",
   "metadata": {},
   "outputs": [
    {
     "data": {
      "image/png": "[encoded data removed]",
      "text/plain": [
       "<Figure size 640x480 with 1 Axes>"
      ]
     },
     "metadata": {},
     "output_type": "display_data"
    }
   ],
   "source": [
    "#Representacion grafica del objeto Series\n",
    "%matplotlib inline\n",
    "import matplotlib.pyplot as plt\n",
    "\n",
    "s.plot()\n",
    "plt.show()"
   ]
  },
  {
   "cell_type": "markdown",
   "id": "a281d7a3",
   "metadata": {},
   "source": [
    "### Crear un objeto Dataframe"
   ]
  },
  {
   "cell_type": "code",
   "execution_count": 18,
   "id": "034adb1c",
   "metadata": {},
   "outputs": [
    {
     "name": "stdout",
     "output_type": "stream",
     "text": [
      "          Peso  Altura  Hijos\n",
      "Arturo      70     169    NaN\n",
      "Mauricio    65     170    NaN\n",
      "Rebeca      60     160    2.0\n",
      "Yulissa     48     169    3.0\n"
     ]
    }
   ],
   "source": [
    "#Crear un dataframe e inicializarlo con un diccionario de objetos Series\n",
    "\n",
    "Personas={\n",
    "    \"Peso\": pd.Series([65, 60, 70, 48], [\"Mauricio\", \"Rebeca\", \"Arturo\", \"Yulissa\"]),\n",
    "    \"Altura\": pd.Series({\"Mauricio\": 170, \"Rebeca\":160, \"Arturo\": 169, \"Yulissa\": 169}),\n",
    "    \"Hijos\" : pd.Series([2,3], [\"Rebeca\", \"Yulissa\"])\n",
    "}\n",
    "\n",
    "Dataframe = pd.DataFrame(Personas)\n",
    "print(Dataframe)\n"
   ]
  },
  {
   "cell_type": "markdown",
   "id": "4392f828",
   "metadata": {},
   "source": [
    "Puede forzarse al DataFrame a que presente algunas columnas determinadas y en un orden determinado"
   ]
  },
  {
   "cell_type": "code",
   "execution_count": 19,
   "id": "b434e399",
   "metadata": {},
   "outputs": [
    {
     "name": "stdout",
     "output_type": "stream",
     "text": [
      "          Altura  Peso\n",
      "Mauricio     170    65\n",
      "Arturo       169    70\n"
     ]
    }
   ],
   "source": [
    "#Creacion de un DataFrame e inicializarlo con algunos elementos de un diccionario de objetos Series\n",
    "Personas={\n",
    "    \"Peso\": pd.Series([65, 60, 70, 48], [\"Mauricio\", \"Rebeca\", \"Arturo\", \"Yulissa\"]),\n",
    "    \"Altura\": pd.Series({\"Mauricio\": 170, \"Rebeca\":160, \"Arturo\": 169, \"Yulissa\": 169}),\n",
    "    \"Hijos\" : pd.Series([2,3], [\"Rebeca\", \"Yulissa\"])\n",
    "}\n",
    "\n",
    "Dataframe = pd.DataFrame(\n",
    "    Personas,\n",
    "    columns=[\"Altura\", \"Peso\"],\n",
    "    index=[\"Mauricio\", \"Arturo\"]\n",
    ")\n",
    "\n",
    "print(Dataframe)"
   ]
  },
  {
   "cell_type": "code",
   "execution_count": 20,
   "id": "0b89e7f6",
   "metadata": {},
   "outputs": [
    {
     "name": "stdout",
     "output_type": "stream",
     "text": [
      "          Altura  Hijos  Peso\n",
      "Mauricio     170      2    65\n",
      "Rebeca       160      2    60\n",
      "Arturo       169      1    70\n",
      "Yulissa      156      3    48\n"
     ]
    }
   ],
   "source": [
    "#Creacion de un DataFrame e inicializarlo con una lista de listas de Python\n",
    "#Nota: Deben especificarse las columnas e indices por separado\n",
    "\n",
    "valores = [\n",
    "    [170, 2, 65],\n",
    "    [160, 2, 60],\n",
    "    [169, 1, 70],\n",
    "    [156, 3, 48]\n",
    "]\n",
    "\n",
    "Dataframe = pd.DataFrame(\n",
    "    valores,\n",
    "    columns = [\"Altura\", \"Hijos\", \"Peso\"],\n",
    "    index = [\"Mauricio\", \"Rebeca\", \"Arturo\", \"Yulissa\"]\n",
    ")\n",
    "\n",
    "print(Dataframe)"
   ]
  },
  {
   "cell_type": "code",
   "execution_count": 21,
   "id": "d40da596",
   "metadata": {},
   "outputs": [
    {
     "name": "stdout",
     "output_type": "stream",
     "text": [
      "          Peso  Altura\n",
      "Mauricio    65     170\n",
      "Rebeca      60     160\n",
      "Arturo      69     169\n",
      "Yulissa     48     169\n"
     ]
    }
   ],
   "source": [
    "#Crear un DataFrame e inicializarlo con un diccionario de Python\n",
    "\n",
    "Personas={\n",
    "    \"Peso\": {\"Mauricio\":65, \"Rebeca\":60, \"Arturo\":69, \"Yulissa\":48},\n",
    "    \"Altura\": {\"Mauricio\": 170, \"Rebeca\":160, \"Arturo\": 169, \"Yulissa\": 169}\n",
    "}\n",
    "\n",
    "Dataframe = pd.DataFrame(Personas)\n",
    "print(Dataframe)"
   ]
  },
  {
   "cell_type": "markdown",
   "id": "ce2bb4b4",
   "metadata": {},
   "source": [
    "### Acceso a los elementos de un DataFrame"
   ]
  },
  {
   "cell_type": "code",
   "execution_count": 22,
   "id": "cc389958",
   "metadata": {},
   "outputs": [
    {
     "name": "stdout",
     "output_type": "stream",
     "text": [
      "          Peso  Altura  Hijos\n",
      "Arturo      70     169    NaN\n",
      "Mauricio    65     170    NaN\n",
      "Rebeca      60     160    2.0\n",
      "Yulissa     48     169    3.0\n"
     ]
    }
   ],
   "source": [
    "#Crear un DataFrame e inicializarlo con un Diccionario de objetos Series.\n",
    "Personas={\n",
    "    \"Peso\": pd.Series([65, 60, 70, 48], [\"Mauricio\", \"Rebeca\", \"Arturo\", \"Yulissa\"]),\n",
    "    \"Altura\": pd.Series({\"Mauricio\": 170, \"Rebeca\":160, \"Arturo\": 169, \"Yulissa\": 169}),\n",
    "    \"Hijos\" : pd.Series([2,3], [\"Rebeca\", \"Yulissa\"])\n",
    "}\n",
    "\n",
    "Dataframe = pd.DataFrame(\n",
    "    Personas\n",
    ")\n",
    "\n",
    "print(Dataframe)"
   ]
  },
  {
   "cell_type": "code",
   "execution_count": 23,
   "id": "6134e8a8",
   "metadata": {},
   "outputs": [
    {
     "data": {
      "text/html": [
       "<div>\n",
       "<style scoped>\n",
       "    .dataframe tbody tr th:only-of-type {\n",
       "        vertical-align: middle;\n",
       "    }\n",
       "\n",
       "    .dataframe tbody tr th {\n",
       "        vertical-align: top;\n",
       "    }\n",
       "\n",
       "    .dataframe thead th {\n",
       "        text-align: right;\n",
       "    }\n",
       "</style>\n",
       "<table border=\"1\" class=\"dataframe\">\n",
       "  <thead>\n",
       "    <tr style=\"text-align: right;\">\n",
       "      <th></th>\n",
       "      <th>Peso</th>\n",
       "    </tr>\n",
       "  </thead>\n",
       "  <tbody>\n",
       "    <tr>\n",
       "      <th>Arturo</th>\n",
       "      <td>70</td>\n",
       "    </tr>\n",
       "    <tr>\n",
       "      <th>Mauricio</th>\n",
       "      <td>65</td>\n",
       "    </tr>\n",
       "    <tr>\n",
       "      <th>Rebeca</th>\n",
       "      <td>60</td>\n",
       "    </tr>\n",
       "    <tr>\n",
       "      <th>Yulissa</th>\n",
       "      <td>48</td>\n",
       "    </tr>\n",
       "  </tbody>\n",
       "</table>\n",
       "</div>"
      ],
      "text/plain": [
       "          Peso\n",
       "Arturo      70\n",
       "Mauricio    65\n",
       "Rebeca      60\n",
       "Yulissa     48"
      ]
     },
     "execution_count": 23,
     "metadata": {},
     "output_type": "execute_result"
    }
   ],
   "source": [
    "#Accediendo a las columnas del DataFrame\n",
    "Dataframe[[\"Peso\"]]"
   ]
  },
  {
   "cell_type": "code",
   "execution_count": 24,
   "id": "3f9cae83",
   "metadata": {},
   "outputs": [
    {
     "data": {
      "text/html": [
       "<div>\n",
       "<style scoped>\n",
       "    .dataframe tbody tr th:only-of-type {\n",
       "        vertical-align: middle;\n",
       "    }\n",
       "\n",
       "    .dataframe tbody tr th {\n",
       "        vertical-align: top;\n",
       "    }\n",
       "\n",
       "    .dataframe thead th {\n",
       "        text-align: right;\n",
       "    }\n",
       "</style>\n",
       "<table border=\"1\" class=\"dataframe\">\n",
       "  <thead>\n",
       "    <tr style=\"text-align: right;\">\n",
       "      <th></th>\n",
       "      <th>Peso</th>\n",
       "      <th>Altura</th>\n",
       "    </tr>\n",
       "  </thead>\n",
       "  <tbody>\n",
       "    <tr>\n",
       "      <th>Arturo</th>\n",
       "      <td>70</td>\n",
       "      <td>169</td>\n",
       "    </tr>\n",
       "    <tr>\n",
       "      <th>Mauricio</th>\n",
       "      <td>65</td>\n",
       "      <td>170</td>\n",
       "    </tr>\n",
       "    <tr>\n",
       "      <th>Rebeca</th>\n",
       "      <td>60</td>\n",
       "      <td>160</td>\n",
       "    </tr>\n",
       "    <tr>\n",
       "      <th>Yulissa</th>\n",
       "      <td>48</td>\n",
       "      <td>169</td>\n",
       "    </tr>\n",
       "  </tbody>\n",
       "</table>\n",
       "</div>"
      ],
      "text/plain": [
       "          Peso  Altura\n",
       "Arturo      70     169\n",
       "Mauricio    65     170\n",
       "Rebeca      60     160\n",
       "Yulissa     48     169"
      ]
     },
     "execution_count": 24,
     "metadata": {},
     "output_type": "execute_result"
    }
   ],
   "source": [
    "Dataframe[[\"Peso\", \"Altura\"]]"
   ]
  },
  {
   "cell_type": "code",
   "execution_count": 25,
   "id": "000723d8",
   "metadata": {},
   "outputs": [
    {
     "data": {
      "text/plain": [
       "Arturo       True\n",
       "Mauricio     True\n",
       "Rebeca      False\n",
       "Yulissa     False\n",
       "Name: Peso, dtype: bool"
      ]
     },
     "execution_count": 25,
     "metadata": {},
     "output_type": "execute_result"
    }
   ],
   "source": [
    "#Pueden combinarse los elementos anteriores con expresionaes booleanas\n",
    "\n",
    "Dataframe[\"Peso\"]>=65"
   ]
  },
  {
   "cell_type": "code",
   "execution_count": 26,
   "id": "89326e0f",
   "metadata": {},
   "outputs": [
    {
     "data": {
      "text/html": [
       "<div>\n",
       "<style scoped>\n",
       "    .dataframe tbody tr th:only-of-type {\n",
       "        vertical-align: middle;\n",
       "    }\n",
       "\n",
       "    .dataframe tbody tr th {\n",
       "        vertical-align: top;\n",
       "    }\n",
       "\n",
       "    .dataframe thead th {\n",
       "        text-align: right;\n",
       "    }\n",
       "</style>\n",
       "<table border=\"1\" class=\"dataframe\">\n",
       "  <thead>\n",
       "    <tr style=\"text-align: right;\">\n",
       "      <th></th>\n",
       "      <th>Peso</th>\n",
       "      <th>Altura</th>\n",
       "      <th>Hijos</th>\n",
       "    </tr>\n",
       "  </thead>\n",
       "  <tbody>\n",
       "    <tr>\n",
       "      <th>Arturo</th>\n",
       "      <td>70</td>\n",
       "      <td>169</td>\n",
       "      <td>NaN</td>\n",
       "    </tr>\n",
       "    <tr>\n",
       "      <th>Mauricio</th>\n",
       "      <td>65</td>\n",
       "      <td>170</td>\n",
       "      <td>NaN</td>\n",
       "    </tr>\n",
       "  </tbody>\n",
       "</table>\n",
       "</div>"
      ],
      "text/plain": [
       "          Peso  Altura  Hijos\n",
       "Arturo      70     169    NaN\n",
       "Mauricio    65     170    NaN"
      ]
     },
     "execution_count": 26,
     "metadata": {},
     "output_type": "execute_result"
    }
   ],
   "source": [
    "#Pueden combinarse los metodos con expresiones booleanas.\n",
    "Dataframe[Dataframe[\"Peso\"]>= 65]"
   ]
  },
  {
   "cell_type": "markdown",
   "id": "e42f9884",
   "metadata": {},
   "source": [
    "#### Acceso a los elementos de las filas del DataFrame"
   ]
  },
  {
   "cell_type": "code",
   "execution_count": 27,
   "id": "fbd08597",
   "metadata": {},
   "outputs": [
    {
     "data": {
      "text/html": [
       "<div>\n",
       "<style scoped>\n",
       "    .dataframe tbody tr th:only-of-type {\n",
       "        vertical-align: middle;\n",
       "    }\n",
       "\n",
       "    .dataframe tbody tr th {\n",
       "        vertical-align: top;\n",
       "    }\n",
       "\n",
       "    .dataframe thead th {\n",
       "        text-align: right;\n",
       "    }\n",
       "</style>\n",
       "<table border=\"1\" class=\"dataframe\">\n",
       "  <thead>\n",
       "    <tr style=\"text-align: right;\">\n",
       "      <th></th>\n",
       "      <th>Peso</th>\n",
       "      <th>Altura</th>\n",
       "      <th>Hijos</th>\n",
       "    </tr>\n",
       "  </thead>\n",
       "  <tbody>\n",
       "    <tr>\n",
       "      <th>Arturo</th>\n",
       "      <td>70</td>\n",
       "      <td>169</td>\n",
       "      <td>NaN</td>\n",
       "    </tr>\n",
       "    <tr>\n",
       "      <th>Mauricio</th>\n",
       "      <td>65</td>\n",
       "      <td>170</td>\n",
       "      <td>NaN</td>\n",
       "    </tr>\n",
       "    <tr>\n",
       "      <th>Rebeca</th>\n",
       "      <td>60</td>\n",
       "      <td>160</td>\n",
       "      <td>2.0</td>\n",
       "    </tr>\n",
       "    <tr>\n",
       "      <th>Yulissa</th>\n",
       "      <td>48</td>\n",
       "      <td>169</td>\n",
       "      <td>3.0</td>\n",
       "    </tr>\n",
       "  </tbody>\n",
       "</table>\n",
       "</div>"
      ],
      "text/plain": [
       "          Peso  Altura  Hijos\n",
       "Arturo      70     169    NaN\n",
       "Mauricio    65     170    NaN\n",
       "Rebeca      60     160    2.0\n",
       "Yulissa     48     169    3.0"
      ]
     },
     "execution_count": 27,
     "metadata": {},
     "output_type": "execute_result"
    }
   ],
   "source": [
    "#Mostrar el DataFrame\n",
    "Dataframe"
   ]
  },
  {
   "cell_type": "code",
   "execution_count": 28,
   "id": "7a931628",
   "metadata": {},
   "outputs": [
    {
     "data": {
      "text/plain": [
       "Peso       48.0\n",
       "Altura    169.0\n",
       "Hijos       3.0\n",
       "Name: Yulissa, dtype: float64"
      ]
     },
     "execution_count": 28,
     "metadata": {},
     "output_type": "execute_result"
    }
   ],
   "source": [
    "Dataframe.loc[\"Yulissa\"]"
   ]
  },
  {
   "cell_type": "code",
   "execution_count": 29,
   "id": "b4574713",
   "metadata": {},
   "outputs": [
    {
     "data": {
      "text/plain": [
       "Peso       48.0\n",
       "Altura    169.0\n",
       "Hijos       3.0\n",
       "Name: Yulissa, dtype: float64"
      ]
     },
     "execution_count": 29,
     "metadata": {},
     "output_type": "execute_result"
    }
   ],
   "source": [
    "Dataframe.iloc[3]"
   ]
  },
  {
   "cell_type": "code",
   "execution_count": 30,
   "id": "9258086e",
   "metadata": {},
   "outputs": [
    {
     "data": {
      "text/html": [
       "<div>\n",
       "<style scoped>\n",
       "    .dataframe tbody tr th:only-of-type {\n",
       "        vertical-align: middle;\n",
       "    }\n",
       "\n",
       "    .dataframe tbody tr th {\n",
       "        vertical-align: top;\n",
       "    }\n",
       "\n",
       "    .dataframe thead th {\n",
       "        text-align: right;\n",
       "    }\n",
       "</style>\n",
       "<table border=\"1\" class=\"dataframe\">\n",
       "  <thead>\n",
       "    <tr style=\"text-align: right;\">\n",
       "      <th></th>\n",
       "      <th>Peso</th>\n",
       "      <th>Altura</th>\n",
       "      <th>Hijos</th>\n",
       "    </tr>\n",
       "  </thead>\n",
       "  <tbody>\n",
       "    <tr>\n",
       "      <th>Arturo</th>\n",
       "      <td>70</td>\n",
       "      <td>169</td>\n",
       "      <td>NaN</td>\n",
       "    </tr>\n",
       "    <tr>\n",
       "      <th>Mauricio</th>\n",
       "      <td>65</td>\n",
       "      <td>170</td>\n",
       "      <td>NaN</td>\n",
       "    </tr>\n",
       "    <tr>\n",
       "      <th>Rebeca</th>\n",
       "      <td>60</td>\n",
       "      <td>160</td>\n",
       "      <td>2.0</td>\n",
       "    </tr>\n",
       "  </tbody>\n",
       "</table>\n",
       "</div>"
      ],
      "text/plain": [
       "          Peso  Altura  Hijos\n",
       "Arturo      70     169    NaN\n",
       "Mauricio    65     170    NaN\n",
       "Rebeca      60     160    2.0"
      ]
     },
     "execution_count": 30,
     "metadata": {},
     "output_type": "execute_result"
    }
   ],
   "source": [
    "Dataframe.iloc[0:3]"
   ]
  },
  {
   "cell_type": "markdown",
   "id": "9b2e7deb",
   "metadata": {},
   "source": [
    "#### Cpnsulta avanzada de los elementos de un DataFrame"
   ]
  },
  {
   "cell_type": "code",
   "execution_count": 31,
   "id": "2f8cf642",
   "metadata": {},
   "outputs": [
    {
     "data": {
      "text/html": [
       "<div>\n",
       "<style scoped>\n",
       "    .dataframe tbody tr th:only-of-type {\n",
       "        vertical-align: middle;\n",
       "    }\n",
       "\n",
       "    .dataframe tbody tr th {\n",
       "        vertical-align: top;\n",
       "    }\n",
       "\n",
       "    .dataframe thead th {\n",
       "        text-align: right;\n",
       "    }\n",
       "</style>\n",
       "<table border=\"1\" class=\"dataframe\">\n",
       "  <thead>\n",
       "    <tr style=\"text-align: right;\">\n",
       "      <th></th>\n",
       "      <th>Peso</th>\n",
       "      <th>Altura</th>\n",
       "      <th>Hijos</th>\n",
       "    </tr>\n",
       "  </thead>\n",
       "  <tbody>\n",
       "    <tr>\n",
       "      <th>Arturo</th>\n",
       "      <td>70</td>\n",
       "      <td>169</td>\n",
       "      <td>NaN</td>\n",
       "    </tr>\n",
       "    <tr>\n",
       "      <th>Mauricio</th>\n",
       "      <td>65</td>\n",
       "      <td>170</td>\n",
       "      <td>NaN</td>\n",
       "    </tr>\n",
       "    <tr>\n",
       "      <th>Rebeca</th>\n",
       "      <td>60</td>\n",
       "      <td>160</td>\n",
       "      <td>2.0</td>\n",
       "    </tr>\n",
       "    <tr>\n",
       "      <th>Yulissa</th>\n",
       "      <td>48</td>\n",
       "      <td>169</td>\n",
       "      <td>3.0</td>\n",
       "    </tr>\n",
       "  </tbody>\n",
       "</table>\n",
       "</div>"
      ],
      "text/plain": [
       "          Peso  Altura  Hijos\n",
       "Arturo      70     169    NaN\n",
       "Mauricio    65     170    NaN\n",
       "Rebeca      60     160    2.0\n",
       "Yulissa     48     169    3.0"
      ]
     },
     "execution_count": 31,
     "metadata": {},
     "output_type": "execute_result"
    }
   ],
   "source": [
    "#Mostrar el dataframe\n",
    "Dataframe"
   ]
  },
  {
   "cell_type": "code",
   "execution_count": 32,
   "id": "39e11621",
   "metadata": {},
   "outputs": [
    {
     "data": {
      "text/html": [
       "<div>\n",
       "<style scoped>\n",
       "    .dataframe tbody tr th:only-of-type {\n",
       "        vertical-align: middle;\n",
       "    }\n",
       "\n",
       "    .dataframe tbody tr th {\n",
       "        vertical-align: top;\n",
       "    }\n",
       "\n",
       "    .dataframe thead th {\n",
       "        text-align: right;\n",
       "    }\n",
       "</style>\n",
       "<table border=\"1\" class=\"dataframe\">\n",
       "  <thead>\n",
       "    <tr style=\"text-align: right;\">\n",
       "      <th></th>\n",
       "      <th>Peso</th>\n",
       "      <th>Altura</th>\n",
       "      <th>Hijos</th>\n",
       "    </tr>\n",
       "  </thead>\n",
       "  <tbody>\n",
       "    <tr>\n",
       "      <th>Arturo</th>\n",
       "      <td>70</td>\n",
       "      <td>169</td>\n",
       "      <td>NaN</td>\n",
       "    </tr>\n",
       "  </tbody>\n",
       "</table>\n",
       "</div>"
      ],
      "text/plain": [
       "        Peso  Altura  Hijos\n",
       "Arturo    70     169    NaN"
      ]
     },
     "execution_count": 32,
     "metadata": {},
     "output_type": "execute_result"
    }
   ],
   "source": [
    "Dataframe.query(\"Altura >= 165 and Peso > 65\")"
   ]
  },
  {
   "cell_type": "code",
   "execution_count": 33,
   "id": "1d9133f0",
   "metadata": {},
   "outputs": [
    {
     "name": "stdout",
     "output_type": "stream",
     "text": [
      "          Peso  Altura  Hijos\n",
      "Arturo      70     169    NaN\n",
      "Mauricio    65     170    NaN\n",
      "Rebeca      60     160    2.0\n",
      "Yulissa     48     169    3.0\n"
     ]
    }
   ],
   "source": [
    "# Crear un dataframe e inicializarlo con un diccionario de objetos Series\n",
    "Personas={\n",
    "    \"Peso\": pd.Series([65, 60, 70, 48], [\"Mauricio\", \"Rebeca\", \"Arturo\", \"Yulissa\"]),\n",
    "    \"Altura\": pd.Series({\"Mauricio\": 170, \"Rebeca\":160, \"Arturo\": 169, \"Yulissa\": 169}),\n",
    "    \"Hijos\" : pd.Series([2,3], [\"Rebeca\", \"Yulissa\"])\n",
    "}\n",
    "\n",
    "Dataframe = pd.DataFrame(Personas)\n",
    "print(Dataframe)\n",
    "\n"
   ]
  },
  {
   "cell_type": "code",
   "execution_count": 34,
   "id": "dfa7498c",
   "metadata": {},
   "outputs": [],
   "source": [
    "#Copiar el DataFrame Dataframe en dataframe copy\n",
    "#Nota: Al modificar un elemento de Dataframe_copy no se modifica Dataframe\n",
    "\n",
    "Dataframe_copy=Dataframe.copy()"
   ]
  },
  {
   "cell_type": "markdown",
   "id": "558b8514",
   "metadata": {},
   "source": [
    "### Modificar un DataFrame\n"
   ]
  },
  {
   "cell_type": "code",
   "execution_count": 35,
   "id": "9c2b30d7",
   "metadata": {},
   "outputs": [
    {
     "name": "stdout",
     "output_type": "stream",
     "text": [
      "          Peso  Altura  Hijos\n",
      "Arturo      70     169    NaN\n",
      "Mauricio    65     170    NaN\n",
      "Rebeca      60     160    2.0\n",
      "Yulissa     48     169    3.0\n"
     ]
    }
   ],
   "source": [
    "Personas={\n",
    "    \"Peso\": pd.Series([65, 60, 70, 48], [\"Mauricio\", \"Rebeca\", \"Arturo\", \"Yulissa\"]),\n",
    "    \"Altura\": pd.Series({\"Mauricio\": 170, \"Rebeca\":160, \"Arturo\": 169, \"Yulissa\": 169}),\n",
    "    \"Hijos\" : pd.Series([2,3], [\"Rebeca\", \"Yulissa\"])\n",
    "}\n",
    "\n",
    "Dataframe = pd.DataFrame(Personas)\n",
    "print(Dataframe)\n"
   ]
  },
  {
   "cell_type": "code",
   "execution_count": 37,
   "id": "3b907a34",
   "metadata": {},
   "outputs": [
    {
     "data": {
      "text/html": [
       "<div>\n",
       "<style scoped>\n",
       "    .dataframe tbody tr th:only-of-type {\n",
       "        vertical-align: middle;\n",
       "    }\n",
       "\n",
       "    .dataframe tbody tr th {\n",
       "        vertical-align: top;\n",
       "    }\n",
       "\n",
       "    .dataframe thead th {\n",
       "        text-align: right;\n",
       "    }\n",
       "</style>\n",
       "<table border=\"1\" class=\"dataframe\">\n",
       "  <thead>\n",
       "    <tr style=\"text-align: right;\">\n",
       "      <th></th>\n",
       "      <th>Peso</th>\n",
       "      <th>Altura</th>\n",
       "      <th>Hijos</th>\n",
       "      <th>Año</th>\n",
       "    </tr>\n",
       "  </thead>\n",
       "  <tbody>\n",
       "    <tr>\n",
       "      <th>Arturo</th>\n",
       "      <td>70</td>\n",
       "      <td>169</td>\n",
       "      <td>NaN</td>\n",
       "      <td>2005</td>\n",
       "    </tr>\n",
       "    <tr>\n",
       "      <th>Mauricio</th>\n",
       "      <td>65</td>\n",
       "      <td>170</td>\n",
       "      <td>NaN</td>\n",
       "      <td>2005</td>\n",
       "    </tr>\n",
       "    <tr>\n",
       "      <th>Rebeca</th>\n",
       "      <td>60</td>\n",
       "      <td>160</td>\n",
       "      <td>2.0</td>\n",
       "      <td>2005</td>\n",
       "    </tr>\n",
       "    <tr>\n",
       "      <th>Yulissa</th>\n",
       "      <td>48</td>\n",
       "      <td>169</td>\n",
       "      <td>3.0</td>\n",
       "      <td>2006</td>\n",
       "    </tr>\n",
       "  </tbody>\n",
       "</table>\n",
       "</div>"
      ],
      "text/plain": [
       "          Peso  Altura  Hijos   Año\n",
       "Arturo      70     169    NaN  2005\n",
       "Mauricio    65     170    NaN  2005\n",
       "Rebeca      60     160    2.0  2005\n",
       "Yulissa     48     169    3.0  2006"
      ]
     },
     "execution_count": 37,
     "metadata": {},
     "output_type": "execute_result"
    }
   ],
   "source": [
    "#Añadir una nueva columna al dataframe\n",
    "Dataframe[\"Año\"] = [2005, 2005, 2005, 2006]\n",
    "Dataframe"
   ]
  },
  {
   "cell_type": "code",
   "execution_count": 38,
   "id": "d90370fe",
   "metadata": {},
   "outputs": [
    {
     "data": {
      "text/html": [
       "<div>\n",
       "<style scoped>\n",
       "    .dataframe tbody tr th:only-of-type {\n",
       "        vertical-align: middle;\n",
       "    }\n",
       "\n",
       "    .dataframe tbody tr th {\n",
       "        vertical-align: top;\n",
       "    }\n",
       "\n",
       "    .dataframe thead th {\n",
       "        text-align: right;\n",
       "    }\n",
       "</style>\n",
       "<table border=\"1\" class=\"dataframe\">\n",
       "  <thead>\n",
       "    <tr style=\"text-align: right;\">\n",
       "      <th></th>\n",
       "      <th>Peso</th>\n",
       "      <th>Altura</th>\n",
       "      <th>Hijos</th>\n",
       "      <th>Año</th>\n",
       "      <th>Edad</th>\n",
       "    </tr>\n",
       "  </thead>\n",
       "  <tbody>\n",
       "    <tr>\n",
       "      <th>Arturo</th>\n",
       "      <td>70</td>\n",
       "      <td>169</td>\n",
       "      <td>NaN</td>\n",
       "      <td>2005</td>\n",
       "      <td>20</td>\n",
       "    </tr>\n",
       "    <tr>\n",
       "      <th>Mauricio</th>\n",
       "      <td>65</td>\n",
       "      <td>170</td>\n",
       "      <td>NaN</td>\n",
       "      <td>2005</td>\n",
       "      <td>20</td>\n",
       "    </tr>\n",
       "    <tr>\n",
       "      <th>Rebeca</th>\n",
       "      <td>60</td>\n",
       "      <td>160</td>\n",
       "      <td>2.0</td>\n",
       "      <td>2005</td>\n",
       "      <td>20</td>\n",
       "    </tr>\n",
       "    <tr>\n",
       "      <th>Yulissa</th>\n",
       "      <td>48</td>\n",
       "      <td>169</td>\n",
       "      <td>3.0</td>\n",
       "      <td>2006</td>\n",
       "      <td>19</td>\n",
       "    </tr>\n",
       "  </tbody>\n",
       "</table>\n",
       "</div>"
      ],
      "text/plain": [
       "          Peso  Altura  Hijos   Año  Edad\n",
       "Arturo      70     169    NaN  2005    20\n",
       "Mauricio    65     170    NaN  2005    20\n",
       "Rebeca      60     160    2.0  2005    20\n",
       "Yulissa     48     169    3.0  2006    19"
      ]
     },
     "execution_count": 38,
     "metadata": {},
     "output_type": "execute_result"
    }
   ],
   "source": [
    "#Añadir una nueva columna calculada al Dataframe\n",
    "Dataframe[\"Edad\"] = 2025 - Dataframe[\"Año\"]\n",
    "Dataframe"
   ]
  },
  {
   "cell_type": "code",
   "execution_count": 39,
   "id": "ad2425de",
   "metadata": {},
   "outputs": [
    {
     "data": {
      "text/html": [
       "<div>\n",
       "<style scoped>\n",
       "    .dataframe tbody tr th:only-of-type {\n",
       "        vertical-align: middle;\n",
       "    }\n",
       "\n",
       "    .dataframe tbody tr th {\n",
       "        vertical-align: top;\n",
       "    }\n",
       "\n",
       "    .dataframe thead th {\n",
       "        text-align: right;\n",
       "    }\n",
       "</style>\n",
       "<table border=\"1\" class=\"dataframe\">\n",
       "  <thead>\n",
       "    <tr style=\"text-align: right;\">\n",
       "      <th></th>\n",
       "      <th>Peso</th>\n",
       "      <th>Altura</th>\n",
       "      <th>Hijos</th>\n",
       "      <th>Año</th>\n",
       "      <th>Edad</th>\n",
       "      <th>Mascotas</th>\n",
       "    </tr>\n",
       "  </thead>\n",
       "  <tbody>\n",
       "    <tr>\n",
       "      <th>Arturo</th>\n",
       "      <td>70</td>\n",
       "      <td>169</td>\n",
       "      <td>NaN</td>\n",
       "      <td>2005</td>\n",
       "      <td>20</td>\n",
       "      <td>4</td>\n",
       "    </tr>\n",
       "    <tr>\n",
       "      <th>Mauricio</th>\n",
       "      <td>65</td>\n",
       "      <td>170</td>\n",
       "      <td>NaN</td>\n",
       "      <td>2005</td>\n",
       "      <td>20</td>\n",
       "      <td>1</td>\n",
       "    </tr>\n",
       "    <tr>\n",
       "      <th>Rebeca</th>\n",
       "      <td>60</td>\n",
       "      <td>160</td>\n",
       "      <td>2.0</td>\n",
       "      <td>2005</td>\n",
       "      <td>20</td>\n",
       "      <td>1</td>\n",
       "    </tr>\n",
       "    <tr>\n",
       "      <th>Yulissa</th>\n",
       "      <td>48</td>\n",
       "      <td>169</td>\n",
       "      <td>3.0</td>\n",
       "      <td>2006</td>\n",
       "      <td>19</td>\n",
       "      <td>0</td>\n",
       "    </tr>\n",
       "  </tbody>\n",
       "</table>\n",
       "</div>"
      ],
      "text/plain": [
       "          Peso  Altura  Hijos   Año  Edad  Mascotas\n",
       "Arturo      70     169    NaN  2005    20         4\n",
       "Mauricio    65     170    NaN  2005    20         1\n",
       "Rebeca      60     160    2.0  2005    20         1\n",
       "Yulissa     48     169    3.0  2006    19         0"
      ]
     },
     "execution_count": 39,
     "metadata": {},
     "output_type": "execute_result"
    }
   ],
   "source": [
    "#Añadir una nueva columna creando un DataFrame nuevo\n",
    "\n",
    "Dataframe_mod = Dataframe.assign(Mascotas = [4,1,1,0])\n",
    "Dataframe_mod"
   ]
  },
  {
   "cell_type": "code",
   "execution_count": 40,
   "id": "bbcaff82",
   "metadata": {},
   "outputs": [
    {
     "data": {
      "text/html": [
       "<div>\n",
       "<style scoped>\n",
       "    .dataframe tbody tr th:only-of-type {\n",
       "        vertical-align: middle;\n",
       "    }\n",
       "\n",
       "    .dataframe tbody tr th {\n",
       "        vertical-align: top;\n",
       "    }\n",
       "\n",
       "    .dataframe thead th {\n",
       "        text-align: right;\n",
       "    }\n",
       "</style>\n",
       "<table border=\"1\" class=\"dataframe\">\n",
       "  <thead>\n",
       "    <tr style=\"text-align: right;\">\n",
       "      <th></th>\n",
       "      <th>Peso</th>\n",
       "      <th>Altura</th>\n",
       "      <th>Hijos</th>\n",
       "      <th>Año</th>\n",
       "      <th>Edad</th>\n",
       "    </tr>\n",
       "  </thead>\n",
       "  <tbody>\n",
       "    <tr>\n",
       "      <th>Arturo</th>\n",
       "      <td>70</td>\n",
       "      <td>169</td>\n",
       "      <td>NaN</td>\n",
       "      <td>2005</td>\n",
       "      <td>20</td>\n",
       "    </tr>\n",
       "    <tr>\n",
       "      <th>Mauricio</th>\n",
       "      <td>65</td>\n",
       "      <td>170</td>\n",
       "      <td>NaN</td>\n",
       "      <td>2005</td>\n",
       "      <td>20</td>\n",
       "    </tr>\n",
       "    <tr>\n",
       "      <th>Rebeca</th>\n",
       "      <td>60</td>\n",
       "      <td>160</td>\n",
       "      <td>2.0</td>\n",
       "      <td>2005</td>\n",
       "      <td>20</td>\n",
       "    </tr>\n",
       "    <tr>\n",
       "      <th>Yulissa</th>\n",
       "      <td>48</td>\n",
       "      <td>169</td>\n",
       "      <td>3.0</td>\n",
       "      <td>2006</td>\n",
       "      <td>19</td>\n",
       "    </tr>\n",
       "  </tbody>\n",
       "</table>\n",
       "</div>"
      ],
      "text/plain": [
       "          Peso  Altura  Hijos   Año  Edad\n",
       "Arturo      70     169    NaN  2005    20\n",
       "Mauricio    65     170    NaN  2005    20\n",
       "Rebeca      60     160    2.0  2005    20\n",
       "Yulissa     48     169    3.0  2006    19"
      ]
     },
     "execution_count": 40,
     "metadata": {},
     "output_type": "execute_result"
    }
   ],
   "source": [
    "Dataframe"
   ]
  },
  {
   "cell_type": "code",
   "execution_count": 41,
   "id": "914cb915",
   "metadata": {},
   "outputs": [
    {
     "data": {
      "text/html": [
       "<div>\n",
       "<style scoped>\n",
       "    .dataframe tbody tr th:only-of-type {\n",
       "        vertical-align: middle;\n",
       "    }\n",
       "\n",
       "    .dataframe tbody tr th {\n",
       "        vertical-align: top;\n",
       "    }\n",
       "\n",
       "    .dataframe thead th {\n",
       "        text-align: right;\n",
       "    }\n",
       "</style>\n",
       "<table border=\"1\" class=\"dataframe\">\n",
       "  <thead>\n",
       "    <tr style=\"text-align: right;\">\n",
       "      <th></th>\n",
       "      <th>Altura</th>\n",
       "      <th>Hijos</th>\n",
       "      <th>Año</th>\n",
       "      <th>Edad</th>\n",
       "    </tr>\n",
       "  </thead>\n",
       "  <tbody>\n",
       "    <tr>\n",
       "      <th>Arturo</th>\n",
       "      <td>169</td>\n",
       "      <td>NaN</td>\n",
       "      <td>2005</td>\n",
       "      <td>20</td>\n",
       "    </tr>\n",
       "    <tr>\n",
       "      <th>Mauricio</th>\n",
       "      <td>170</td>\n",
       "      <td>NaN</td>\n",
       "      <td>2005</td>\n",
       "      <td>20</td>\n",
       "    </tr>\n",
       "    <tr>\n",
       "      <th>Rebeca</th>\n",
       "      <td>160</td>\n",
       "      <td>2.0</td>\n",
       "      <td>2005</td>\n",
       "      <td>20</td>\n",
       "    </tr>\n",
       "    <tr>\n",
       "      <th>Yulissa</th>\n",
       "      <td>169</td>\n",
       "      <td>3.0</td>\n",
       "      <td>2006</td>\n",
       "      <td>19</td>\n",
       "    </tr>\n",
       "  </tbody>\n",
       "</table>\n",
       "</div>"
      ],
      "text/plain": [
       "          Altura  Hijos   Año  Edad\n",
       "Arturo       169    NaN  2005    20\n",
       "Mauricio     170    NaN  2005    20\n",
       "Rebeca       160    2.0  2005    20\n",
       "Yulissa      169    3.0  2006    19"
      ]
     },
     "execution_count": 41,
     "metadata": {},
     "output_type": "execute_result"
    }
   ],
   "source": [
    "#Eliminar una columna existente del DataFrame\n",
    "del Dataframe[\"Peso\"]\n",
    "Dataframe"
   ]
  },
  {
   "cell_type": "code",
   "execution_count": 42,
   "id": "b3104a56",
   "metadata": {},
   "outputs": [
    {
     "data": {
      "text/html": [
       "<div>\n",
       "<style scoped>\n",
       "    .dataframe tbody tr th:only-of-type {\n",
       "        vertical-align: middle;\n",
       "    }\n",
       "\n",
       "    .dataframe tbody tr th {\n",
       "        vertical-align: top;\n",
       "    }\n",
       "\n",
       "    .dataframe thead th {\n",
       "        text-align: right;\n",
       "    }\n",
       "</style>\n",
       "<table border=\"1\" class=\"dataframe\">\n",
       "  <thead>\n",
       "    <tr style=\"text-align: right;\">\n",
       "      <th></th>\n",
       "      <th>Peso</th>\n",
       "      <th>Altura</th>\n",
       "      <th>Hijos</th>\n",
       "      <th>Año</th>\n",
       "      <th>Edad</th>\n",
       "      <th>Mascotas</th>\n",
       "    </tr>\n",
       "  </thead>\n",
       "  <tbody>\n",
       "    <tr>\n",
       "      <th>Arturo</th>\n",
       "      <td>70</td>\n",
       "      <td>169</td>\n",
       "      <td>NaN</td>\n",
       "      <td>2005</td>\n",
       "      <td>20</td>\n",
       "      <td>4</td>\n",
       "    </tr>\n",
       "    <tr>\n",
       "      <th>Mauricio</th>\n",
       "      <td>65</td>\n",
       "      <td>170</td>\n",
       "      <td>NaN</td>\n",
       "      <td>2005</td>\n",
       "      <td>20</td>\n",
       "      <td>1</td>\n",
       "    </tr>\n",
       "    <tr>\n",
       "      <th>Rebeca</th>\n",
       "      <td>60</td>\n",
       "      <td>160</td>\n",
       "      <td>2.0</td>\n",
       "      <td>2005</td>\n",
       "      <td>20</td>\n",
       "      <td>1</td>\n",
       "    </tr>\n",
       "    <tr>\n",
       "      <th>Yulissa</th>\n",
       "      <td>48</td>\n",
       "      <td>169</td>\n",
       "      <td>3.0</td>\n",
       "      <td>2006</td>\n",
       "      <td>19</td>\n",
       "      <td>0</td>\n",
       "    </tr>\n",
       "  </tbody>\n",
       "</table>\n",
       "</div>"
      ],
      "text/plain": [
       "          Peso  Altura  Hijos   Año  Edad  Mascotas\n",
       "Arturo      70     169    NaN  2005    20         4\n",
       "Mauricio    65     170    NaN  2005    20         1\n",
       "Rebeca      60     160    2.0  2005    20         1\n",
       "Yulissa     48     169    3.0  2006    19         0"
      ]
     },
     "execution_count": 42,
     "metadata": {},
     "output_type": "execute_result"
    }
   ],
   "source": [
    "Dataframe_mod"
   ]
  },
  {
   "cell_type": "code",
   "execution_count": 43,
   "id": "90c5a3db",
   "metadata": {},
   "outputs": [
    {
     "data": {
      "text/html": [
       "<div>\n",
       "<style scoped>\n",
       "    .dataframe tbody tr th:only-of-type {\n",
       "        vertical-align: middle;\n",
       "    }\n",
       "\n",
       "    .dataframe tbody tr th {\n",
       "        vertical-align: top;\n",
       "    }\n",
       "\n",
       "    .dataframe thead th {\n",
       "        text-align: right;\n",
       "    }\n",
       "</style>\n",
       "<table border=\"1\" class=\"dataframe\">\n",
       "  <thead>\n",
       "    <tr style=\"text-align: right;\">\n",
       "      <th></th>\n",
       "      <th>Altura</th>\n",
       "      <th>Año</th>\n",
       "      <th>Edad</th>\n",
       "    </tr>\n",
       "  </thead>\n",
       "  <tbody>\n",
       "    <tr>\n",
       "      <th>Arturo</th>\n",
       "      <td>169</td>\n",
       "      <td>2005</td>\n",
       "      <td>20</td>\n",
       "    </tr>\n",
       "    <tr>\n",
       "      <th>Mauricio</th>\n",
       "      <td>170</td>\n",
       "      <td>2005</td>\n",
       "      <td>20</td>\n",
       "    </tr>\n",
       "    <tr>\n",
       "      <th>Rebeca</th>\n",
       "      <td>160</td>\n",
       "      <td>2005</td>\n",
       "      <td>20</td>\n",
       "    </tr>\n",
       "    <tr>\n",
       "      <th>Yulissa</th>\n",
       "      <td>169</td>\n",
       "      <td>2006</td>\n",
       "      <td>19</td>\n",
       "    </tr>\n",
       "  </tbody>\n",
       "</table>\n",
       "</div>"
      ],
      "text/plain": [
       "          Altura   Año  Edad\n",
       "Arturo       169  2005    20\n",
       "Mauricio     170  2005    20\n",
       "Rebeca       160  2005    20\n",
       "Yulissa      169  2006    19"
      ]
     },
     "execution_count": 43,
     "metadata": {},
     "output_type": "execute_result"
    }
   ],
   "source": [
    "#Eliminar una columna existente; devolviendo una copia del DataFrame\n",
    "Dataframe_mod = Dataframe.drop([\"Hijos\"], axis=1)\n",
    "Dataframe_mod"
   ]
  },
  {
   "cell_type": "markdown",
   "id": "c33fabd8",
   "metadata": {},
   "source": [
    "### Evaluacion de expresiones sobre un DataFrame"
   ]
  },
  {
   "cell_type": "code",
   "execution_count": 53,
   "id": "435fc7dc",
   "metadata": {},
   "outputs": [
    {
     "data": {
      "text/html": [
       "<div>\n",
       "<style scoped>\n",
       "    .dataframe tbody tr th:only-of-type {\n",
       "        vertical-align: middle;\n",
       "    }\n",
       "\n",
       "    .dataframe tbody tr th {\n",
       "        vertical-align: top;\n",
       "    }\n",
       "\n",
       "    .dataframe thead th {\n",
       "        text-align: right;\n",
       "    }\n",
       "</style>\n",
       "<table border=\"1\" class=\"dataframe\">\n",
       "  <thead>\n",
       "    <tr style=\"text-align: right;\">\n",
       "      <th></th>\n",
       "      <th>Peso</th>\n",
       "      <th>Altura</th>\n",
       "      <th>Hijos</th>\n",
       "    </tr>\n",
       "  </thead>\n",
       "  <tbody>\n",
       "    <tr>\n",
       "      <th>Arturo</th>\n",
       "      <td>70</td>\n",
       "      <td>169</td>\n",
       "      <td>NaN</td>\n",
       "    </tr>\n",
       "    <tr>\n",
       "      <th>Mauricio</th>\n",
       "      <td>65</td>\n",
       "      <td>170</td>\n",
       "      <td>NaN</td>\n",
       "    </tr>\n",
       "    <tr>\n",
       "      <th>Rebeca</th>\n",
       "      <td>60</td>\n",
       "      <td>160</td>\n",
       "      <td>2.0</td>\n",
       "    </tr>\n",
       "    <tr>\n",
       "      <th>Yulissa</th>\n",
       "      <td>48</td>\n",
       "      <td>156</td>\n",
       "      <td>3.0</td>\n",
       "    </tr>\n",
       "  </tbody>\n",
       "</table>\n",
       "</div>"
      ],
      "text/plain": [
       "          Peso  Altura  Hijos\n",
       "Arturo      70     169    NaN\n",
       "Mauricio    65     170    NaN\n",
       "Rebeca      60     160    2.0\n",
       "Yulissa     48     156    3.0"
      ]
     },
     "execution_count": 53,
     "metadata": {},
     "output_type": "execute_result"
    }
   ],
   "source": [
    "#Crear un DataFrame e inicializarlo como un diccionario de objeto Series\n",
    "Personas={\n",
    "    \"Peso\": pd.Series([65, 60, 70, 48], [\"Mauricio\", \"Rebeca\", \"Arturo\", \"Yulissa\"]),\n",
    "    \"Altura\": pd.Series({\"Mauricio\": 170, \"Rebeca\":160, \"Arturo\": 169, \"Yulissa\": 156}),\n",
    "    \"Hijos\" : pd.Series([2,3], [\"Rebeca\", \"Yulissa\"])\n",
    "}\n",
    "\n",
    "Dataframe = pd.DataFrame(\n",
    "    Personas\n",
    ")\n",
    "\n",
    "Dataframe"
   ]
  },
  {
   "cell_type": "code",
   "execution_count": 54,
   "id": "c166522e",
   "metadata": {},
   "outputs": [
    {
     "data": {
      "text/plain": [
       "Arturo      84.5\n",
       "Mauricio    85.0\n",
       "Rebeca      80.0\n",
       "Yulissa     78.0\n",
       "Name: Altura, dtype: float64"
      ]
     },
     "execution_count": 54,
     "metadata": {},
     "output_type": "execute_result"
    }
   ],
   "source": [
    "#Evaluar una funcion sobre una columna del DataFrame\n",
    "Dataframe.eval(\"Altura / 2\")"
   ]
  },
  {
   "cell_type": "code",
   "execution_count": 55,
   "id": "76d67d5a",
   "metadata": {},
   "outputs": [
    {
     "data": {
      "text/html": [
       "<div>\n",
       "<style scoped>\n",
       "    .dataframe tbody tr th:only-of-type {\n",
       "        vertical-align: middle;\n",
       "    }\n",
       "\n",
       "    .dataframe tbody tr th {\n",
       "        vertical-align: top;\n",
       "    }\n",
       "\n",
       "    .dataframe thead th {\n",
       "        text-align: right;\n",
       "    }\n",
       "</style>\n",
       "<table border=\"1\" class=\"dataframe\">\n",
       "  <thead>\n",
       "    <tr style=\"text-align: right;\">\n",
       "      <th></th>\n",
       "      <th>Peso</th>\n",
       "      <th>Altura</th>\n",
       "      <th>Hijos</th>\n",
       "      <th>Media_Altura</th>\n",
       "    </tr>\n",
       "  </thead>\n",
       "  <tbody>\n",
       "    <tr>\n",
       "      <th>Arturo</th>\n",
       "      <td>70</td>\n",
       "      <td>169</td>\n",
       "      <td>NaN</td>\n",
       "      <td>84.5</td>\n",
       "    </tr>\n",
       "    <tr>\n",
       "      <th>Mauricio</th>\n",
       "      <td>65</td>\n",
       "      <td>170</td>\n",
       "      <td>NaN</td>\n",
       "      <td>85.0</td>\n",
       "    </tr>\n",
       "    <tr>\n",
       "      <th>Rebeca</th>\n",
       "      <td>60</td>\n",
       "      <td>160</td>\n",
       "      <td>2.0</td>\n",
       "      <td>80.0</td>\n",
       "    </tr>\n",
       "    <tr>\n",
       "      <th>Yulissa</th>\n",
       "      <td>48</td>\n",
       "      <td>156</td>\n",
       "      <td>3.0</td>\n",
       "      <td>78.0</td>\n",
       "    </tr>\n",
       "  </tbody>\n",
       "</table>\n",
       "</div>"
      ],
      "text/plain": [
       "          Peso  Altura  Hijos  Media_Altura\n",
       "Arturo      70     169    NaN          84.5\n",
       "Mauricio    65     170    NaN          85.0\n",
       "Rebeca      60     160    2.0          80.0\n",
       "Yulissa     48     156    3.0          78.0"
      ]
     },
     "execution_count": 55,
     "metadata": {},
     "output_type": "execute_result"
    }
   ],
   "source": [
    "# Asignar un valor resultante como una columna nueva\n",
    "Dataframe.eval(\"Media_Altura = Altura / 2\", inplace=True)\n",
    "Dataframe"
   ]
  },
  {
   "cell_type": "code",
   "execution_count": 57,
   "id": "4c180b6e",
   "metadata": {},
   "outputs": [
    {
     "data": {
      "text/plain": [
       "Arturo       True\n",
       "Mauricio     True\n",
       "Rebeca      False\n",
       "Yulissa     False\n",
       "Name: Altura, dtype: bool"
      ]
     },
     "execution_count": 57,
     "metadata": {},
     "output_type": "execute_result"
    }
   ],
   "source": [
    "#Evaluar una funcion utilizando una varibale local\n",
    "max_altura = 160 \n",
    "Dataframe.eval(\"Altura > @max_altura\")"
   ]
  },
  {
   "cell_type": "code",
   "execution_count": 59,
   "id": "375b8142",
   "metadata": {},
   "outputs": [
    {
     "data": {
      "text/plain": [
       "Arturo      72\n",
       "Mauricio    67\n",
       "Rebeca      62\n",
       "Yulissa     50\n",
       "Name: Peso, dtype: int64"
      ]
     },
     "execution_count": 59,
     "metadata": {},
     "output_type": "execute_result"
    }
   ],
   "source": [
    "#Aplicar una funcion externa a una columna del DataFrame\n",
    "def func(x):\n",
    "    return x + 2\n",
    "\n",
    "Dataframe[\"Peso\"].apply(func)"
   ]
  },
  {
   "cell_type": "markdown",
   "id": "60454747",
   "metadata": {},
   "source": [
    "### Guardar y Cargar el DataFrame "
   ]
  },
  {
   "cell_type": "code",
   "execution_count": 60,
   "id": "6065c7b6",
   "metadata": {},
   "outputs": [
    {
     "data": {
      "text/html": [
       "<div>\n",
       "<style scoped>\n",
       "    .dataframe tbody tr th:only-of-type {\n",
       "        vertical-align: middle;\n",
       "    }\n",
       "\n",
       "    .dataframe tbody tr th {\n",
       "        vertical-align: top;\n",
       "    }\n",
       "\n",
       "    .dataframe thead th {\n",
       "        text-align: right;\n",
       "    }\n",
       "</style>\n",
       "<table border=\"1\" class=\"dataframe\">\n",
       "  <thead>\n",
       "    <tr style=\"text-align: right;\">\n",
       "      <th></th>\n",
       "      <th>Peso</th>\n",
       "      <th>Altura</th>\n",
       "      <th>Hijos</th>\n",
       "    </tr>\n",
       "  </thead>\n",
       "  <tbody>\n",
       "    <tr>\n",
       "      <th>Arturo</th>\n",
       "      <td>70</td>\n",
       "      <td>169</td>\n",
       "      <td>NaN</td>\n",
       "    </tr>\n",
       "    <tr>\n",
       "      <th>Mauricio</th>\n",
       "      <td>65</td>\n",
       "      <td>170</td>\n",
       "      <td>NaN</td>\n",
       "    </tr>\n",
       "    <tr>\n",
       "      <th>Rebeca</th>\n",
       "      <td>60</td>\n",
       "      <td>160</td>\n",
       "      <td>2.0</td>\n",
       "    </tr>\n",
       "    <tr>\n",
       "      <th>Yulissa</th>\n",
       "      <td>48</td>\n",
       "      <td>156</td>\n",
       "      <td>3.0</td>\n",
       "    </tr>\n",
       "  </tbody>\n",
       "</table>\n",
       "</div>"
      ],
      "text/plain": [
       "          Peso  Altura  Hijos\n",
       "Arturo      70     169    NaN\n",
       "Mauricio    65     170    NaN\n",
       "Rebeca      60     160    2.0\n",
       "Yulissa     48     156    3.0"
      ]
     },
     "execution_count": 60,
     "metadata": {},
     "output_type": "execute_result"
    }
   ],
   "source": [
    "Personas={\n",
    "    \"Peso\": pd.Series([65, 60, 70, 48], [\"Mauricio\", \"Rebeca\", \"Arturo\", \"Yulissa\"]),\n",
    "    \"Altura\": pd.Series({\"Mauricio\": 170, \"Rebeca\":160, \"Arturo\": 169, \"Yulissa\": 156}),\n",
    "    \"Hijos\" : pd.Series([2,3], [\"Rebeca\", \"Yulissa\"])\n",
    "}\n",
    "\n",
    "Dataframe = pd.DataFrame(\n",
    "    Personas\n",
    ")\n",
    "\n",
    "Dataframe"
   ]
  },
  {
   "cell_type": "code",
   "execution_count": 61,
   "id": "97031bc7",
   "metadata": {},
   "outputs": [],
   "source": [
    "#Guaradr el DataFrame como CSV, HTML y JSON\n",
    "Dataframe.to_csv(\"DataFrame_Personas.csv\")\n",
    "Dataframe.to_html(\"DataFrame_Personas.html\")\n",
    "Dataframe.to_json(\"DataFrame_Personas.json\")"
   ]
  },
  {
   "cell_type": "code",
   "execution_count": 62,
   "id": "8d06eb8c",
   "metadata": {},
   "outputs": [],
   "source": [
    "#Cargar el DataFrame en Jupyter\n",
    "\n",
    "Dataframe_2 = pd.read_csv(\"DataFrame_Personas.csv\")"
   ]
  },
  {
   "cell_type": "code",
   "execution_count": 63,
   "id": "d81b8584",
   "metadata": {},
   "outputs": [
    {
     "data": {
      "text/html": [
       "<div>\n",
       "<style scoped>\n",
       "    .dataframe tbody tr th:only-of-type {\n",
       "        vertical-align: middle;\n",
       "    }\n",
       "\n",
       "    .dataframe tbody tr th {\n",
       "        vertical-align: top;\n",
       "    }\n",
       "\n",
       "    .dataframe thead th {\n",
       "        text-align: right;\n",
       "    }\n",
       "</style>\n",
       "<table border=\"1\" class=\"dataframe\">\n",
       "  <thead>\n",
       "    <tr style=\"text-align: right;\">\n",
       "      <th></th>\n",
       "      <th>Unnamed: 0</th>\n",
       "      <th>Peso</th>\n",
       "      <th>Altura</th>\n",
       "      <th>Hijos</th>\n",
       "    </tr>\n",
       "  </thead>\n",
       "  <tbody>\n",
       "    <tr>\n",
       "      <th>0</th>\n",
       "      <td>Arturo</td>\n",
       "      <td>70</td>\n",
       "      <td>169</td>\n",
       "      <td>NaN</td>\n",
       "    </tr>\n",
       "    <tr>\n",
       "      <th>1</th>\n",
       "      <td>Mauricio</td>\n",
       "      <td>65</td>\n",
       "      <td>170</td>\n",
       "      <td>NaN</td>\n",
       "    </tr>\n",
       "    <tr>\n",
       "      <th>2</th>\n",
       "      <td>Rebeca</td>\n",
       "      <td>60</td>\n",
       "      <td>160</td>\n",
       "      <td>2.0</td>\n",
       "    </tr>\n",
       "    <tr>\n",
       "      <th>3</th>\n",
       "      <td>Yulissa</td>\n",
       "      <td>48</td>\n",
       "      <td>156</td>\n",
       "      <td>3.0</td>\n",
       "    </tr>\n",
       "  </tbody>\n",
       "</table>\n",
       "</div>"
      ],
      "text/plain": [
       "  Unnamed: 0  Peso  Altura  Hijos\n",
       "0     Arturo    70     169    NaN\n",
       "1   Mauricio    65     170    NaN\n",
       "2     Rebeca    60     160    2.0\n",
       "3    Yulissa    48     156    3.0"
      ]
     },
     "execution_count": 63,
     "metadata": {},
     "output_type": "execute_result"
    }
   ],
   "source": [
    "Dataframe_2"
   ]
  },
  {
   "cell_type": "code",
   "execution_count": null,
   "id": "6d5a8a12",
   "metadata": {},
   "outputs": [
    {
     "data": {
      "text/html": [
       "<div>\n",
       "<style scoped>\n",
       "    .dataframe tbody tr th:only-of-type {\n",
       "        vertical-align: middle;\n",
       "    }\n",
       "\n",
       "    .dataframe tbody tr th {\n",
       "        vertical-align: top;\n",
       "    }\n",
       "\n",
       "    .dataframe thead th {\n",
       "        text-align: right;\n",
       "    }\n",
       "</style>\n",
       "<table border=\"1\" class=\"dataframe\">\n",
       "  <thead>\n",
       "    <tr style=\"text-align: right;\">\n",
       "      <th></th>\n",
       "      <th>Peso</th>\n",
       "      <th>Altura</th>\n",
       "      <th>Hijos</th>\n",
       "    </tr>\n",
       "  </thead>\n",
       "  <tbody>\n",
       "    <tr>\n",
       "      <th>Arturo</th>\n",
       "      <td>70</td>\n",
       "      <td>169</td>\n",
       "      <td>NaN</td>\n",
       "    </tr>\n",
       "    <tr>\n",
       "      <th>Mauricio</th>\n",
       "      <td>65</td>\n",
       "      <td>170</td>\n",
       "      <td>NaN</td>\n",
       "    </tr>\n",
       "    <tr>\n",
       "      <th>Rebeca</th>\n",
       "      <td>60</td>\n",
       "      <td>160</td>\n",
       "      <td>2.0</td>\n",
       "    </tr>\n",
       "    <tr>\n",
       "      <th>Yulissa</th>\n",
       "      <td>48</td>\n",
       "      <td>156</td>\n",
       "      <td>3.0</td>\n",
       "    </tr>\n",
       "  </tbody>\n",
       "</table>\n",
       "</div>"
      ],
      "text/plain": [
       "          Peso  Altura  Hijos\n",
       "Arturo      70     169    NaN\n",
       "Mauricio    65     170    NaN\n",
       "Rebeca      60     160    2.0\n",
       "Yulissa     48     156    3.0"
      ]
     },
     "execution_count": 65,
     "metadata": {},
     "output_type": "execute_result"
    }
   ],
   "source": [
    "#Columna correctamente asignada\n",
    "Dataframe_2 = pd.read_csv(\"DataFrame_Personas.csv\", index_col=0)\n",
    "Dataframe_2"
   ]
  },
  {
   "cell_type": "code",
   "execution_count": null,
   "id": "62dfe864",
   "metadata": {},
   "outputs": [],
   "source": []
  }
 ],
 "metadata": {
  "kernelspec": {
   "display_name": "venv",
   "language": "python",
   "name": "python3"
  },
  "language_info": {
   "codemirror_mode": {
    "name": "ipython",
    "version": 3
   },
   "file_extension": ".py",
   "mimetype": "text/x-python",
   "name": "python",
   "nbconvert_exporter": "python",
   "pygments_lexer": "ipython3",
   "version": "3.13.7"
  }
 },
 "nbformat": 4,
 "nbformat_minor": 5
}
